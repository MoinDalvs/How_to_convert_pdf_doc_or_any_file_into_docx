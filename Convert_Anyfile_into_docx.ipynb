{
 "cells": [
  {
   "cell_type": "markdown",
   "id": "ed0c31a3",
   "metadata": {},
   "source": [
    "### Convert any file into docx files"
   ]
  },
  {
   "cell_type": "code",
   "execution_count": 15,
   "id": "c89550ad",
   "metadata": {},
   "outputs": [],
   "source": [
    "from glob import glob\n",
    "import os\n",
    "import win32com.client as win32\n",
    "from win32com.client import constants\n",
    "from tqdm import tqdm_notebook\n",
    "from pdf2docx import Converter\n",
    "import pythoncom\n",
    "import sys"
   ]
  },
  {
   "cell_type": "code",
   "execution_count": 20,
   "id": "f4e94d6b",
   "metadata": {},
   "outputs": [],
   "source": [
    "def save_as_docx(path):\n",
    "    \n",
    "    word = win32.gencache.EnsureDispatch('Word.Application')\n",
    "    doc = word.Documents.Open(path)\n",
    "    doc.Activate()\n",
    "    \n",
    "    new_file_abs = os.path.splitext(os.path.abspath(path))[0] + \".docx\"\n",
    "    \n",
    "    word.ActiveDocument.SaveAs(\n",
    "        new_file_abs, FileFormat=constants.wdFormatXMLDocument\n",
    "    )\n",
    "    doc.Close(False)"
   ]
  },
  {
   "cell_type": "markdown",
   "id": "b485c06d",
   "metadata": {},
   "source": [
    "### Single file"
   ]
  },
  {
   "cell_type": "code",
   "execution_count": 11,
   "id": "8d551112",
   "metadata": {},
   "outputs": [],
   "source": [
    "path = r'C:\\Users\\Moin Dalvi\\Downloads\\React Developer_PavasGoswami.doc'\n",
    "if path.endswith('.doc'):\n",
    "    save_as_docx(path)\n",
    "elif path.endswith('.pdf'):\n",
    "    cv = Converter(path)\n",
    "    basename = os.path.splitext(path)[0]\n",
    "    cv.convert(basename+'.docx', start=0, end=None)\n",
    "    cv.close()"
   ]
  },
  {
   "cell_type": "code",
   "execution_count": 8,
   "id": "ce84b60a",
   "metadata": {},
   "outputs": [
    {
     "name": "stdout",
     "output_type": "stream",
     "text": [
      "C:\\Users\\Moin Dalvi\\Downloads\\Anil kumar.docx\n"
     ]
    }
   ],
   "source": [
    "path = r'C:\\Users\\Moin Dalvi\\Downloads\\Anil kumar.pdf'\n",
    "if path.endswith('.pdf'):\n",
    "    basename = os.path.splitext(path)[0]\n",
    "    file = basename+'.docx'\n",
    "    print(file)"
   ]
  },
  {
   "cell_type": "markdown",
   "id": "b00d367d",
   "metadata": {},
   "source": [
    "### Multiple Files"
   ]
  },
  {
   "cell_type": "code",
   "execution_count": 29,
   "id": "6af207fe",
   "metadata": {},
   "outputs": [
    {
     "name": "stderr",
     "output_type": "stream",
     "text": [
      "C:\\Users\\Moin Dalvi\\AppData\\Local\\Temp\\ipykernel_25132\\1896600308.py:2: TqdmDeprecationWarning: This function will be removed in tqdm==5.0.0\n",
      "Please use `tqdm.notebook.tqdm` instead of `tqdm.tqdm_notebook`\n",
      "  for file in tqdm_notebook(os.listdir(folder_path)):\n"
     ]
    },
    {
     "data": {
      "application/vnd.jupyter.widget-view+json": {
       "model_id": "28ec4e464a1449619ec989e852a30404",
       "version_major": 2,
       "version_minor": 0
      },
      "text/plain": [
       "  0%|          | 0/8 [00:00<?, ?it/s]"
      ]
     },
     "metadata": {},
     "output_type": "display_data"
    },
    {
     "name": "stderr",
     "output_type": "stream",
     "text": [
      "[INFO] Start to convert C:\\Users\\Moin Dalvi\\Downloads\\Peoplesoft resumes\\Anil kumar.pdf\n",
      "[INFO] \u001b[1;36m[1/4] Opening document...\u001b[0m\n",
      "[INFO] \u001b[1;36m[2/4] Analyzing document...\u001b[0m\n",
      "[INFO] \u001b[1;36m[3/4] Parsing pages...\u001b[0m\n",
      "[INFO] (1/3) Page 1\n",
      "[INFO] (2/3) Page 2\n",
      "[INFO] (3/3) Page 3\n",
      "[INFO] \u001b[1;36m[4/4] Creating pages...\u001b[0m\n",
      "[INFO] (1/3) Page 1\n",
      "[INFO] (2/3) Page 2\n",
      "[INFO] (3/3) Page 3\n",
      "[INFO] Terminated in 0.67s.\n"
     ]
    }
   ],
   "source": [
    "folder_path = r'C:\\Users\\Moin Dalvi\\Downloads\\Peoplesoft resumes'\n",
    "for file in tqdm_notebook(os.listdir(folder_path)):\n",
    "    file_path = os.path.join(folder_path, file)\n",
    "    if file.endswith('.doc'):\n",
    "        save_as_docx(file_path)\n",
    "    elif file.endswith('.pdf'):\n",
    "        cv = Converter(file_path)\n",
    "        basename = os.path.splitext(file)[0]\n",
    "        cv.convert(folder_path + '/' + basename+'.docx', start=0, end=None)\n",
    "        cv.close()"
   ]
  },
  {
   "cell_type": "code",
   "execution_count": 27,
   "id": "11ddacbb",
   "metadata": {},
   "outputs": [
    {
     "name": "stderr",
     "output_type": "stream",
     "text": [
      "C:\\Users\\Moin Dalvi\\AppData\\Local\\Temp\\ipykernel_25132\\50929055.py:2: TqdmDeprecationWarning: This function will be removed in tqdm==5.0.0\n",
      "Please use `tqdm.notebook.tqdm` instead of `tqdm.tqdm_notebook`\n",
      "  for file in tqdm_notebook(os.listdir(folder_path)):\n"
     ]
    },
    {
     "data": {
      "application/vnd.jupyter.widget-view+json": {
       "model_id": "a5b025e93a2b4d09828e276e80c5bd3e",
       "version_major": 2,
       "version_minor": 0
      },
      "text/plain": [
       "  0%|          | 0/12 [00:00<?, ?it/s]"
      ]
     },
     "metadata": {},
     "output_type": "display_data"
    },
    {
     "name": "stdout",
     "output_type": "stream",
     "text": [
      "C:\\Users\\Moin Dalvi\\Downloads\\Peoplesoft resumes/Anil kumar.docx\n"
     ]
    }
   ],
   "source": [
    "folder_path = r'C:\\Users\\Moin Dalvi\\Downloads\\Peoplesoft resumes'\n",
    "for file in tqdm_notebook(os.listdir(folder_path)):\n",
    "        file_path = os.path.join(folder_path, file)\n",
    "        if file.endswith('.pdf'):\n",
    "            basename = os.path.splitext(file)[0]\n",
    "            print(folder_path + '/' + basename+'.docx')"
   ]
  },
  {
   "cell_type": "markdown",
   "id": "db8ccfd9",
   "metadata": {},
   "source": [
    "### Multiple Folder"
   ]
  },
  {
   "cell_type": "code",
   "execution_count": 30,
   "id": "6eafccbf",
   "metadata": {},
   "outputs": [
    {
     "name": "stderr",
     "output_type": "stream",
     "text": [
      "C:\\Users\\Moin Dalvi\\AppData\\Local\\Temp\\ipykernel_25132\\3571924121.py:4: TqdmDeprecationWarning: This function will be removed in tqdm==5.0.0\n",
      "Please use `tqdm.notebook.tqdm` instead of `tqdm.tqdm_notebook`\n",
      "  for file in tqdm_notebook(os.listdir(folder_path)):\n"
     ]
    },
    {
     "data": {
      "application/vnd.jupyter.widget-view+json": {
       "model_id": "35ac46576d2a404bb8de689fbe5a71ac",
       "version_major": 2,
       "version_minor": 0
      },
      "text/plain": [
       "  0%|          | 0/6 [00:00<?, ?it/s]"
      ]
     },
     "metadata": {},
     "output_type": "display_data"
    },
    {
     "data": {
      "application/vnd.jupyter.widget-view+json": {
       "model_id": "14400493e7524037a6759b351764ff80",
       "version_major": 2,
       "version_minor": 0
      },
      "text/plain": [
       "  0%|          | 0/5 [00:00<?, ?it/s]"
      ]
     },
     "metadata": {},
     "output_type": "display_data"
    },
    {
     "name": "stderr",
     "output_type": "stream",
     "text": [
      "[INFO] Start to convert C:\\Users\\Moin Dalvi\\Downloads\\Resumes\\React Developer\\Reactjs Developer_Prabakaran_Musquare Technologies.pdf\n",
      "[INFO] \u001b[1;36m[1/4] Opening document...\u001b[0m\n",
      "[INFO] \u001b[1;36m[2/4] Analyzing document...\u001b[0m\n",
      "[INFO] \u001b[1;36m[3/4] Parsing pages...\u001b[0m\n",
      "[INFO] (1/2) Page 1\n",
      "[INFO] (2/2) Page 2\n",
      "[INFO] \u001b[1;36m[4/4] Creating pages...\u001b[0m\n",
      "[INFO] (1/2) Page 1\n",
      "[INFO] (2/2) Page 2\n",
      "[INFO] Terminated in 1.16s.\n"
     ]
    },
    {
     "data": {
      "application/vnd.jupyter.widget-view+json": {
       "model_id": "de7be8cf39224a6d850c1c335d22f2cf",
       "version_major": 2,
       "version_minor": 0
      },
      "text/plain": [
       "  0%|          | 0/6 [00:00<?, ?it/s]"
      ]
     },
     "metadata": {},
     "output_type": "display_data"
    },
    {
     "data": {
      "application/vnd.jupyter.widget-view+json": {
       "model_id": "07ce073d54a0432eafee3c9716bfc142",
       "version_major": 2,
       "version_minor": 0
      },
      "text/plain": [
       "  0%|          | 0/11 [00:00<?, ?it/s]"
      ]
     },
     "metadata": {},
     "output_type": "display_data"
    }
   ],
   "source": [
    "m_folder_path = r'C:\\Users\\Moin Dalvi\\Downloads\\Resumes'\n",
    "for folder in os.listdir(m_folder_path):\n",
    "    folder_path = os.path.join(m_folder_path, folder)\n",
    "    for file in tqdm_notebook(os.listdir(folder_path)):\n",
    "        file_path = os.path.join(folder_path, file)\n",
    "        if file.endswith('.doc'):\n",
    "            save_as_docx(file_path)\n",
    "        elif file.endswith('.pdf'):\n",
    "            cv = Converter(file_path)\n",
    "            basename = os.path.splitext(file)[0]\n",
    "            cv.convert(m_folder_path + '/' + folder + '/' + basename+'.docx', start=0, end=None)\n",
    "            cv.close()"
   ]
  },
  {
   "cell_type": "markdown",
   "id": "e1ebc324",
   "metadata": {},
   "source": [
    "### Trial and Error"
   ]
  },
  {
   "cell_type": "code",
   "execution_count": 13,
   "id": "0a05bc83",
   "metadata": {},
   "outputs": [
    {
     "name": "stderr",
     "output_type": "stream",
     "text": [
      "C:\\Users\\Moin Dalvi\\AppData\\Local\\Temp\\ipykernel_4268\\1572672575.py:4: TqdmDeprecationWarning: This function will be removed in tqdm==5.0.0\n",
      "Please use `tqdm.notebook.tqdm` instead of `tqdm.tqdm_notebook`\n",
      "  for file in tqdm_notebook(os.listdir(folder_path)):\n"
     ]
    },
    {
     "data": {
      "application/vnd.jupyter.widget-view+json": {
       "model_id": "d744d8eb8c5b4acba1a409d626e175a1",
       "version_major": 2,
       "version_minor": 0
      },
      "text/plain": [
       "  0%|          | 0/20 [00:00<?, ?it/s]"
      ]
     },
     "metadata": {},
     "output_type": "display_data"
    },
    {
     "data": {
      "application/vnd.jupyter.widget-view+json": {
       "model_id": "ff2f8f14dca24146b09016728a459ef7",
       "version_major": 2,
       "version_minor": 0
      },
      "text/plain": [
       "  0%|          | 0/22 [00:00<?, ?it/s]"
      ]
     },
     "metadata": {},
     "output_type": "display_data"
    },
    {
     "name": "stderr",
     "output_type": "stream",
     "text": [
      "[INFO] Start to convert C:\\Users\\Moin Dalvi\\Data_Science\\Projects\\Resume_Classification\\Resumes_docx\\React Developer\\Reactjs Developer_Prabakaran_Musquare Technologies.pdf\n",
      "[INFO] \u001b[1;36m[1/4] Opening document...\u001b[0m\n",
      "[INFO] \u001b[1;36m[2/4] Analyzing document...\u001b[0m\n",
      "[INFO] \u001b[1;36m[3/4] Parsing pages...\u001b[0m\n",
      "[INFO] (1/2) Page 1\n",
      "[INFO] (2/2) Page 2\n",
      "[INFO] \u001b[1;36m[4/4] Creating pages...\u001b[0m\n",
      "[INFO] (1/2) Page 1\n",
      "[INFO] (2/2) Page 2\n",
      "[INFO] Terminated in 1.25s.\n"
     ]
    },
    {
     "data": {
      "application/vnd.jupyter.widget-view+json": {
       "model_id": "1e15fb6d61eb422886c4d1bf7ee48ac8",
       "version_major": 2,
       "version_minor": 0
      },
      "text/plain": [
       "  0%|          | 0/14 [00:00<?, ?it/s]"
      ]
     },
     "metadata": {},
     "output_type": "display_data"
    },
    {
     "data": {
      "application/vnd.jupyter.widget-view+json": {
       "model_id": "6b3e551fe7374a09a40994068638fa87",
       "version_major": 2,
       "version_minor": 0
      },
      "text/plain": [
       "  0%|          | 0/21 [00:00<?, ?it/s]"
      ]
     },
     "metadata": {},
     "output_type": "display_data"
    }
   ],
   "source": [
    "path = r'C:\\Users\\Moin Dalvi\\Data_Science\\Projects\\Resume_Classification\\Resumes_docx'\n",
    "for folder in os.listdir(path):\n",
    "    folder_path = os.path.join(path, folder)\n",
    "    for file in tqdm_notebook(os.listdir(folder_path)):\n",
    "        file_path = os.path.join(folder_path, file)\n",
    "        if file.endswith('.doc'):\n",
    "            save_as_docx(file_path)\n",
    "        elif file.endswith('.pdf'):\n",
    "            cv = Converter(file_path)\n",
    "            basename = os.path.splitext(file)[0]\n",
    "            cv.convert(path + '/' + folder + '/' + basename+'.docx', start=0, end=None)\n",
    "            cv.close()"
   ]
  },
  {
   "cell_type": "code",
   "execution_count": null,
   "id": "01a5db8c",
   "metadata": {},
   "outputs": [],
   "source": []
  }
 ],
 "metadata": {
  "kernelspec": {
   "display_name": "Python 3 (ipykernel)",
   "language": "python",
   "name": "python3"
  },
  "language_info": {
   "codemirror_mode": {
    "name": "ipython",
    "version": 3
   },
   "file_extension": ".py",
   "mimetype": "text/x-python",
   "name": "python",
   "nbconvert_exporter": "python",
   "pygments_lexer": "ipython3",
   "version": "3.9.12"
  }
 },
 "nbformat": 4,
 "nbformat_minor": 5
}
